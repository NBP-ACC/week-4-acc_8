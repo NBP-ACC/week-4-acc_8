{
 "cells": [
  {
   "cell_type": "markdown",
   "metadata": {},
   "source": [
    "Osnabrück University - A&C: Computational Cognition (Summer Term 2019)"
   ]
  },
  {
   "cell_type": "markdown",
   "metadata": {},
   "source": [
    "# Exercise Sheet 02: Basic statistics"
   ]
  },
  {
   "cell_type": "markdown",
   "metadata": {},
   "source": [
    "## Introduction\n",
    "\n",
    "This week's sheet should be solved and handed in at 14:00 at **Tuesday, April 30, 2019**. If you need help (and Google and other resources were not enough), feel free to contact your tutors. Please push your results to your Github group folder.\n",
    "\n",
    "In this exercise sheet you will have to work with ```pandas``` and ```seaborn```. ```pandas``` is one of the most preferred and widely used tools in data processing. What’s cool about ```pandas``` is that it takes data (like a CSV or TSV file, or a SQL database) and creates a Python object with rows and columns called 'data frame' that looks very similar to tables in a statistical software (think Excel or SPSS for example). ```pandas``` makes data processing a lot easier in comparison to working with lists and/or dictionaries through for-loops or list comprehension.  \n",
    "```seaborn``` is a library for making plots. It is based on ```matplotlib``` but offers more functions speicialized for statistical visualization. Also most people agree that ```seaborn``` looks more legit.\n",
    "\n",
    "Don't forget that you we will also give **2 points** for nice coding style!"
   ]
  },
  {
   "cell_type": "markdown",
   "metadata": {},
   "source": [
    "## Assignment 0: Peer review for sheet 01 [3 pts]"
   ]
  },
  {
   "cell_type": "markdown",
   "metadata": {},
   "source": [
    "Beginning this week you will have to make a peer review of the other groups' solutions. Each group reviews the solutions of two other groups and give points according to the given point distribution considering the correctness of the solution. For this reviews the tutors will give you up to 3 points each week.\n",
    "\n",
    "| * |Group 1|Group 2|Group 3|Group 4|Group 5|Group 6|Group 7|Group 8|Group 9|Group 10|Group 11|\n",
    "| ------- | ----- | ----- | ----- | ----- | ----- | ----- | ----- | ----- | ----- | ------ | ------ |\n",
    "| check solutions of group: | 10, 7 | 4, 9  | 1, 4  | 11, 1 | 8, 11 | 5, 3  | 9, 10 | 6, 5  | 3, 2  | 2, 8   | 7, 6   |"
   ]
  },
  {
   "cell_type": "markdown",
   "metadata": {},
   "source": [
    "You should open an issue in repositories of groups you have to check. The title of the issue should be your group name (e.g.\"Group 1\"). Comments on what was good and bad, how much points they get etc.  \n",
    "Refer to https://guides.github.com/features/issues/ to learn more about issues."
   ]
  },
  {
   "cell_type": "markdown",
   "metadata": {},
   "source": [
    "## Assignment 1: Dataframes [4 pts]"
   ]
  },
  {
   "cell_type": "code",
   "execution_count": 132,
   "metadata": {},
   "outputs": [],
   "source": [
    "# import libraries\n",
    "import os\n",
    "import numpy as np\n",
    "import pandas as pd\n",
    "import matplotlib.pyplot as plt\n",
    "import seaborn as sns\n",
    "sns.set()"
   ]
  },
  {
   "cell_type": "markdown",
   "metadata": {},
   "source": [
    "```matplotlib``` and ```seaborn``` should already be installed in your environment. If not please run:\n",
    "```sh\n",
    "pip install seaborn\n",
    "```"
   ]
  },
  {
   "cell_type": "markdown",
   "metadata": {},
   "source": [
    "### a) Importing a csv file [2 pts]"
   ]
  },
  {
   "cell_type": "markdown",
   "metadata": {},
   "source": [
    "Import the csv files of all subjects into one dataframe. Make sure that each row has a unique index. You might want to take a look at what ***pandas.concat*** does.<br>\n",
    "Extra fun: Display the output of the dataframe using the ***pandas.set_option*** function to display the data in a well-arranged way. Play a little bit around with the settings that you are allowed to change.<br>\n",
    "Save ```df_concatenated```.\n"
   ]
  },
  {
   "cell_type": "code",
   "execution_count": 133,
   "metadata": {},
   "outputs": [],
   "source": [
    "import glob\n",
    "import os\n",
    "\n",
    "PATH = os.getcwd()+ \"/Data\"\n",
    "\n",
    "all_files = glob.glob(os.path.join(PATH, \"*.csv\"))     # advisable to use os.path.join as this makes concatenation OS independent\n",
    "                                                       # http://www.oipapio.com/question-88634    \n",
    "\n",
    "# use pd.set_option here to display in a nice way\n",
    "df_from_each_file = (pd.read_csv(f) for f in all_files) \n",
    "df_concatenated = pd.concat(df_from_each_file, ignore_index=True) # combines all dataframes and creates new dataframe\n",
    "\n",
    "# save concatenated dataframe\n",
    "DATAPATH = os.getcwd() + '/Processed/data_concatenated.csv'\n",
    "\n",
    "df_concatenated.to_csv(DATAPATH) # write concatenated to a csv in the Processed folder"
   ]
  },
  {
   "cell_type": "markdown",
   "metadata": {},
   "source": [
    "### b) Working with dataframes [2 pts]"
   ]
  },
  {
   "cell_type": "markdown",
   "metadata": {},
   "source": [
    "- Add a column called \"congruence\" to ```df_concatenated```. The column should have a value *True* if \"StimulusType\" and \"reponse\" matches. Otherwise the column should have a value *False*.\n",
    "\n",
    "- Create a new dataframe which has \"SubjectID\",\"StiumulusType\",\"RT\" and \"congruence\" as a column. For each combination of \"SubjectID\" and \"StimulusType\" (e.g. \"7001\" and \"0\") compute the average RT and congruence level.\n",
    "\n",
    "- When computing the average RT, omit all reaction times which are 0 as these will manipulate the mean.\n",
    "\n",
    "- Rename \"congruence\" as \"accuracy\" and save the dataframe as a csv file. "
   ]
  },
  {
   "cell_type": "code",
   "execution_count": 170,
   "metadata": {
    "scrolled": false
   },
   "outputs": [],
   "source": [
    "# add a column \"congruence\"\n",
    "# creates new column to check whether stimulus type and response match\n",
    "df_concatenated['congruence'] = df_concatenated['StimulusType'] == df_concatenated['response'] \n",
    "\n",
    "# create a new dataframe with averaged dat\n",
    "df_concatenated_avg = pd.DataFrame(columns=['accuracy','RT'])\n",
    "df_concatenated_avg_test = pd.DataFrame(columns=['SubjectID','StimulusType'])\n",
    "df_concatenated_avg_test['SubjectID'] = df_concatenated['SubjectID']\n",
    "df_concatenated_avg_test['StimulusType'] = df_concatenated['StimulusType']\n",
    "df_concatenated_avg_test = df_concatenated_avg_test.drop_duplicates()\n",
    "#df_concatenated_avg_test = df_concatenated_avg_test.reset_index()\n",
    "#df_concatenated_avg = df_concatenated_avg.drop(columns=['index']) # deletes the column 'Index'\n",
    "df_concatenated_copy = df_concatenated.copy() # creates a deep copy of old data frame\n",
    "df_concatenated_copy = df_concatenated_copy.drop(columns=['response']) # deletes the column 'response'\n",
    "# calculates the mean congruence for different combinations of SubjectID and StimulusType\n",
    "#df_concatenated_avg['SubjectID'] = df_concatenated_copy['SubjectID']\n",
    "#df_concatenated_avg['StimulusType'] = df_concatenated_copy['StimulusType']\n",
    "df_concatenated_avg['accuracy'] = df_concatenated_copy.groupby(['SubjectID', 'StimulusType'])['congruence'].mean()\n",
    "# calculates the mean RT while omitting 0 values for different combinations of SubjectID and StimulusType \n",
    "df_concatenated_avg['RT'] = df_concatenated_copy.groupby(['SubjectID', 'StimulusType'])['RT'].mean() \n",
    "\n",
    "#df_concatenated_avg['SubjectID'] = df_concatenated_avg_test['SubjectID']\n",
    "#df_concatenated_avg['StimulusType'] = df_concatenated_avg_test['StimulusType']\n",
    "df_concatenated_avg = df_concatenated_avg.reset_index()\n",
    "\n",
    "# saves averaged dataframe as a csv file\n",
    "DATAPATH = os.getcwd() + '/Processed/data_concatenated_averaged.csv'\n",
    "df_concatenated_avg.to_csv(DATAPATH, index=False)"
   ]
  },
  {
   "cell_type": "code",
   "execution_count": 171,
   "metadata": {},
   "outputs": [
    {
     "data": {
      "text/html": [
       "<div>\n",
       "<style scoped>\n",
       "    .dataframe tbody tr th:only-of-type {\n",
       "        vertical-align: middle;\n",
       "    }\n",
       "\n",
       "    .dataframe tbody tr th {\n",
       "        vertical-align: top;\n",
       "    }\n",
       "\n",
       "    .dataframe thead th {\n",
       "        text-align: right;\n",
       "    }\n",
       "</style>\n",
       "<table border=\"1\" class=\"dataframe\">\n",
       "  <thead>\n",
       "    <tr style=\"text-align: right;\">\n",
       "      <th></th>\n",
       "      <th>SubjectID</th>\n",
       "      <th>StimulusType</th>\n",
       "      <th>accuracy</th>\n",
       "      <th>RT</th>\n",
       "    </tr>\n",
       "  </thead>\n",
       "  <tbody>\n",
       "    <tr>\n",
       "      <th>0</th>\n",
       "      <td>8001</td>\n",
       "      <td>0</td>\n",
       "      <td>0.7000</td>\n",
       "      <td>90.6000</td>\n",
       "    </tr>\n",
       "    <tr>\n",
       "      <th>1</th>\n",
       "      <td>8001</td>\n",
       "      <td>1</td>\n",
       "      <td>1.0000</td>\n",
       "      <td>342.2125</td>\n",
       "    </tr>\n",
       "    <tr>\n",
       "      <th>2</th>\n",
       "      <td>8002</td>\n",
       "      <td>0</td>\n",
       "      <td>0.8500</td>\n",
       "      <td>49.2000</td>\n",
       "    </tr>\n",
       "    <tr>\n",
       "      <th>3</th>\n",
       "      <td>8002</td>\n",
       "      <td>1</td>\n",
       "      <td>1.0000</td>\n",
       "      <td>357.7625</td>\n",
       "    </tr>\n",
       "    <tr>\n",
       "      <th>4</th>\n",
       "      <td>8003</td>\n",
       "      <td>0</td>\n",
       "      <td>1.0000</td>\n",
       "      <td>0.0000</td>\n",
       "    </tr>\n",
       "    <tr>\n",
       "      <th>5</th>\n",
       "      <td>8003</td>\n",
       "      <td>1</td>\n",
       "      <td>1.0000</td>\n",
       "      <td>435.1625</td>\n",
       "    </tr>\n",
       "    <tr>\n",
       "      <th>6</th>\n",
       "      <td>8004</td>\n",
       "      <td>0</td>\n",
       "      <td>0.9000</td>\n",
       "      <td>32.1500</td>\n",
       "    </tr>\n",
       "    <tr>\n",
       "      <th>7</th>\n",
       "      <td>8004</td>\n",
       "      <td>1</td>\n",
       "      <td>0.9875</td>\n",
       "      <td>340.2125</td>\n",
       "    </tr>\n",
       "    <tr>\n",
       "      <th>8</th>\n",
       "      <td>8005</td>\n",
       "      <td>0</td>\n",
       "      <td>0.7000</td>\n",
       "      <td>99.7500</td>\n",
       "    </tr>\n",
       "    <tr>\n",
       "      <th>9</th>\n",
       "      <td>8005</td>\n",
       "      <td>1</td>\n",
       "      <td>1.0000</td>\n",
       "      <td>321.7500</td>\n",
       "    </tr>\n",
       "    <tr>\n",
       "      <th>10</th>\n",
       "      <td>8006</td>\n",
       "      <td>0</td>\n",
       "      <td>0.7500</td>\n",
       "      <td>74.4500</td>\n",
       "    </tr>\n",
       "    <tr>\n",
       "      <th>11</th>\n",
       "      <td>8006</td>\n",
       "      <td>1</td>\n",
       "      <td>1.0000</td>\n",
       "      <td>328.9625</td>\n",
       "    </tr>\n",
       "    <tr>\n",
       "      <th>12</th>\n",
       "      <td>8007</td>\n",
       "      <td>0</td>\n",
       "      <td>0.9000</td>\n",
       "      <td>30.4500</td>\n",
       "    </tr>\n",
       "    <tr>\n",
       "      <th>13</th>\n",
       "      <td>8007</td>\n",
       "      <td>1</td>\n",
       "      <td>1.0000</td>\n",
       "      <td>355.3875</td>\n",
       "    </tr>\n",
       "    <tr>\n",
       "      <th>14</th>\n",
       "      <td>8008</td>\n",
       "      <td>0</td>\n",
       "      <td>1.0000</td>\n",
       "      <td>0.0000</td>\n",
       "    </tr>\n",
       "    <tr>\n",
       "      <th>15</th>\n",
       "      <td>8008</td>\n",
       "      <td>1</td>\n",
       "      <td>1.0000</td>\n",
       "      <td>358.2000</td>\n",
       "    </tr>\n",
       "  </tbody>\n",
       "</table>\n",
       "</div>"
      ],
      "text/plain": [
       "    SubjectID  StimulusType  accuracy        RT\n",
       "0        8001             0    0.7000   90.6000\n",
       "1        8001             1    1.0000  342.2125\n",
       "2        8002             0    0.8500   49.2000\n",
       "3        8002             1    1.0000  357.7625\n",
       "4        8003             0    1.0000    0.0000\n",
       "5        8003             1    1.0000  435.1625\n",
       "6        8004             0    0.9000   32.1500\n",
       "7        8004             1    0.9875  340.2125\n",
       "8        8005             0    0.7000   99.7500\n",
       "9        8005             1    1.0000  321.7500\n",
       "10       8006             0    0.7500   74.4500\n",
       "11       8006             1    1.0000  328.9625\n",
       "12       8007             0    0.9000   30.4500\n",
       "13       8007             1    1.0000  355.3875\n",
       "14       8008             0    1.0000    0.0000\n",
       "15       8008             1    1.0000  358.2000"
      ]
     },
     "execution_count": 171,
     "metadata": {},
     "output_type": "execute_result"
    }
   ],
   "source": [
    "df_concatenated_avg"
   ]
  },
  {
   "cell_type": "markdown",
   "metadata": {},
   "source": [
    "## Assignment 2: Statistical plotting [6 pts]"
   ]
  },
  {
   "cell_type": "markdown",
   "metadata": {},
   "source": [
    "### a) Boxplot and Violinplot [2 pts]"
   ]
  },
  {
   "cell_type": "markdown",
   "metadata": {},
   "source": [
    "Plot the RT of each trial for all subjects as a stripplot and a boxplot on top of each other. Do the same with a striplot and a violinplot. Plot go trials as green dots and no-go trails as red dots. Reminder: don't forget to mask the data where RT=0. Make sure that the legends are informative (Don't display duplicated legends)."
   ]
  },
  {
   "cell_type": "code",
   "execution_count": 172,
   "metadata": {
    "scrolled": false
   },
   "outputs": [
    {
     "data": {
      "image/png": "[encoded data removed]",
      "text/plain": [
       "<Figure size 432x288 with 2 Axes>"
      ]
     },
     "metadata": {},
     "output_type": "display_data"
    }
   ],
   "source": [
    "# read data\n",
    "data_concat = pd.read_csv(os.getcwd() + \"/Processed/data_concatenated.csv\")\n",
    "\n",
    "# create two axes\n",
    "fig, axes = plt.subplots(nrows=1,ncols=2)\n",
    "\n",
    "# first subplot with stripplot and boxplot\n",
    "# TODO \n",
    "sns.stripplot(x=\"StimulusType\", y=\"RT\", hue=\"StimulusType\",\n",
    "data=data_concat, jitter=True,\n",
    "color=\".3\", dodge=True, linewidth=1, edgecolor='gray')\n",
    "\n",
    "# Get the ax object to use later.\n",
    "ax = sns.boxplot(x=\"StimulusType\", y=\"RT\", hue=\"StimulusType\",\n",
    "data=data_concat, color=\".3\", fliersize=0)\n",
    "\n",
    "\n",
    "# second subplot with stripplot and violinplot\n",
    "# TODO\n",
    "sns.violinplot(x=\"StimulusType\", y=\"RT\", data=data_concat,\n",
    "                    inner=None, color=\".3\")\n",
    "sns.stripplot(x=\"StimulusType\", y=\"RT\", data=data_concat, jitter=True)\n",
    "\n",
    "# handling legends\n",
    "# TODO\n",
    "# Get the handles and labels. For this example it'll be 2 tuples\n",
    "# of length 4 each.\n",
    "handles, labels = ax.get_legend_handles_labels()\n",
    "# When creating the legend, only use the first two elements\n",
    "# to effectively remove the last two.\n",
    "l = plt.legend(handles[0:2], labels[0:2], bbox_to_anchor=(1.05, 1), loc=2, borderaxespad=0.)\n",
    "\n",
    "\n",
    "fig.tight_layout()"
   ]
  },
  {
   "cell_type": "markdown",
   "metadata": {},
   "source": [
    "### b) Violinplot combining all data of all groups [3 pts]"
   ]
  },
  {
   "cell_type": "markdown",
   "metadata": {},
   "source": [
    "- Make a dataframe consisting of all data across groups. You already did this in 1.a). At the end this dataframe you should have 8 * 11 * 100 rows.\n",
    "\n",
    "- Every group has used their ID convention. Make sure that every data point follows this SubjectID system: group number + \"00\" + subject number.  \n",
    "e.g) 3002 for the second subject of the third group.\n",
    "\n",
    "- Compute average RT and accuaracy for each subject in the big dataframe you just created. You already did this in 1.b). At the end this dataframe will have 8 * 11 rows.\n",
    "\n",
    "- On the first column plot average RT and accuracy for 8 subjects from your group's data. Use violinplot and split go/no-go conditions.\n",
    "\n",
    "- On the second column plot average RT and accuracy for 80 subjects from all data. Use violinplot and split go/no-go conditions.\n",
    "\n",
    "- Do you see any difference between the first column and the second column? What does this tell us about the central limit theorem (CLT) ?"
   ]
  },
  {
   "cell_type": "code",
   "execution_count": 173,
   "metadata": {},
   "outputs": [
    {
     "data": {
      "image/png": "[encoded data removed]",
      "text/plain": [
       "<Figure size 432x288 with 1 Axes>"
      ]
     },
     "metadata": {},
     "output_type": "display_data"
    },
    {
     "data": {
      "image/png": "[encoded data removed]",
      "text/plain": [
       "<Figure size 432x288 with 1 Axes>"
      ]
     },
     "metadata": {},
     "output_type": "display_data"
    }
   ],
   "source": [
    "# again create a concatenated dataframe over all (averaged) groups.\n",
    "# Don't forget to modify the Subject ID\n",
    "# TODO\n",
    "PATH = os.getcwd()+ \"/Class_Data\"\n",
    "\n",
    "class_all_files = glob.glob(os.path.join(PATH, \"*.csv\"))     # advisable to use os.path.join as this makes concatenation OS independent\n",
    "                                                       # http://www.oipapio.com/question-88634    \n",
    "\n",
    "# use pd.set_option here to display in a nice way\n",
    "class_df_from_each_file = (pd.read_csv(f) for f in class_all_files) \n",
    "class_df_concatenated = pd.concat(class_df_from_each_file, ignore_index=True) # combines all dataframes and creates new dataframe\n",
    "# save concatenated dataframe\n",
    "DATAPATH = os.getcwd() + '/Processed/class_data_concatenated.csv'\n",
    "\n",
    "class_df_concatenated.to_csv(DATAPATH, index=False) # write concatenated to a csv in the Processed folder\n",
    "# add a column \"congruence\"\n",
    "# creates new column to check whether stimulus type and response match\n",
    "class_df_concatenated['congruence'] = class_df_concatenated['StimulusType'] == class_df_concatenated['response'] \n",
    "\n",
    "# create a new dataframe with averaged dat\n",
    "class_df_concatenated_avg = pd.DataFrame(columns=['accuracy','RT'])\n",
    "class_df_concatenated_avg_test = pd.DataFrame(columns=['SubjectID','StimulusType'])\n",
    "class_df_concatenated_avg_test['SubjectID'] = class_df_concatenated['SubjectID']\n",
    "class_df_concatenated_avg_test['StimulusType'] = class_df_concatenated['StimulusType']\n",
    "class_df_concatenated_avg_test = class_df_concatenated_avg_test.drop_duplicates()\n",
    "#df_concatenated_avg_test = df_concatenated_avg_test.reset_index()\n",
    "#df_concatenated_avg = df_concatenated_avg.drop(columns=['index']) # deletes the column 'Index'\n",
    "class_df_concatenated_copy = class_df_concatenated.copy() # creates a deep copy of old data frame\n",
    "class_df_concatenated_copy = class_df_concatenated_copy.drop(columns=['response']) # deletes the column 'response'\n",
    "# calculates the mean congruence for different combinations of SubjectID and StimulusType\n",
    "#df_concatenated_avg['SubjectID'] = df_concatenated_copy['SubjectID']\n",
    "#df_concatenated_avg['StimulusType'] = df_concatenated_copy['StimulusType']\n",
    "class_df_concatenated_avg['accuracy'] = class_df_concatenated_copy.groupby(['SubjectID', 'StimulusType'])['congruence'].mean()\n",
    "# calculates the mean RT while omitting 0 values for different combinations of SubjectID and StimulusType \n",
    "class_df_concatenated_avg['RT'] = class_df_concatenated_copy.groupby(['SubjectID', 'StimulusType'])['RT'].mean() \n",
    "\n",
    "#df_concatenated_avg['SubjectID'] = df_concatenated_avg_test['SubjectID']\n",
    "#df_concatenated_avg['StimulusType'] = df_concatenated_avg_test['StimulusType']\n",
    "class_df_concatenated_avg = class_df_concatenated_avg.reset_index()\n",
    "\n",
    "# saves averaged dataframe as a csv file\n",
    "DATAPATH = os.getcwd() + '/Processed/class_data_concatenated_averaged.csv'\n",
    "class_df_concatenated_avg.to_csv(DATAPATH, index=False)\n",
    "\n",
    "# Now it's time to plot your results\n",
    "figs, axes = plt.subplots(nrows=2, ncols=2, sharey=\"row\")\n",
    "\n",
    "# violin plot for your group's data\n",
    "figGroup, ax=plt.subplots(num=1, clear=True)\n",
    "figGroup = sns.violinplot(x=\"accuracy\", y=\"RT\", hue=\"StimulusType\", data=df_concatenated_avg)\n",
    "\n",
    "# violin plot of all group's data\n",
    "figClass, ax=plt.subplots(num=2, clear=True)\n",
    "figClass = sns.violinplot(x=\"accuracy\", y=\"RT\", hue=\"StimulusType\", data=class_df_concatenated_avg)\n"
   ]
  },
  {
   "cell_type": "markdown",
   "metadata": {},
   "source": [
    "Compare two datasets and relate it with CLT. Write your opinion here."
   ]
  },
  {
   "cell_type": "markdown",
   "metadata": {},
   "source": [
    "### c) Scatterplot [1 pts]"
   ]
  },
  {
   "cell_type": "markdown",
   "metadata": {},
   "source": [
    "Make a scatterplot comparing RT and accuracy. Do you see some correlation?"
   ]
  },
  {
   "cell_type": "code",
   "execution_count": 174,
   "metadata": {},
   "outputs": [
    {
     "data": {
      "image/png": "[encoded data removed]",
      "text/plain": [
       "<Figure size 432x288 with 1 Axes>"
      ]
     },
     "metadata": {},
     "output_type": "display_data"
    }
   ],
   "source": [
    "# TODO\n",
    "fig = sns.scatterplot(x=\"accuracy\", y=\"RT\", data=class_df_concatenated_avg)"
   ]
  }
 ],
 "metadata": {
  "kernelspec": {
   "display_name": "Python 3",
   "language": "python",
   "name": "python3"
  },
  "language_info": {
   "codemirror_mode": {
    "name": "ipython",
    "version": 3
   },
   "file_extension": ".py",
   "mimetype": "text/x-python",
   "name": "python",
   "nbconvert_exporter": "python",
   "pygments_lexer": "ipython3",
   "version": "3.6.7"
  }
 },
 "nbformat": 4,
 "nbformat_minor": 2
}
